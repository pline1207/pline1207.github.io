{
 "cells": [
  {
   "cell_type": "code",
   "execution_count": 26,
   "id": "6c9c9746-a929-4df5-a532-05411f18ab13",
   "metadata": {},
   "outputs": [],
   "source": [
    "import numpy as np\n",
    "from scipy.spatial import cKDTree\n",
    "import time\n",
    "\n",
    "def read_vtk(fname):\n",
    "\n",
    "    with open(fname, \"rb\") as fd:\n",
    "        lines = iter(l for l in fd)\n",
    "\n",
    "        ver = next(d for d in lines if b\"Version\" in d)\n",
    "        ver = float(ver.split()[-1])\n",
    "        bin = next(d.strip() for d in lines if d.strip() in [b\"ASCII\", b\"BINARY\"]) == b\"BINARY\"\n",
    "        sep = \"\" if bin else \" \"\n",
    "\n",
    "        nVert = next(d for d in lines if b\"POINTS\" in d)\n",
    "        nVert = int(nVert.split()[1])\n",
    "        dtype = np.dtype(\">f4\") if bin else float\n",
    "        v = np.fromfile(fd, dtype=dtype, count=nVert * 3, sep=sep).reshape(nVert, 3)\n",
    "\n",
    "        nFace = next(d for d in lines if b\"POLYGONS\" in d)\n",
    "        nFace = int(nFace.split()[1])\n",
    "        if ver < 5:\n",
    "            dtype = np.dtype(\">i4\") if bin else int\n",
    "            f = np.fromfile(fd, dtype=dtype, count=nFace * 4, sep=sep).reshape(nFace, 4)\n",
    "            f = f[:, 1:]\n",
    "        else:\n",
    "            dtype = np.dtype(\">i8\") if bin else int\n",
    "            nFace -= 1\n",
    "            next(d for d in lines if b\"CONNECTIVITY\" in d)\n",
    "            f = np.fromfile(fd, dtype=dtype, count=nFace * 3, sep=sep).reshape(nFace, 3)\n",
    "\n",
    "    return v, f\n",
    "\n",
    "\n",
    "v, f = read_vtk(\"C:/Users/pline1207/Desktop/ico6.vtk\")\n",
    "#v, f = read_vtk(\"C:/Users/pline1207/Desktop/Vtk_files/HLN-12-2.vnew.e1.vtk\")\n",
    "tree = cKDTree(v)"
   ]
  },
  {
   "cell_type": "code",
   "execution_count": 28,
   "id": "b48ed51e-42b3-489e-ade9-2b06ca966d7b",
   "metadata": {},
   "outputs": [
    {
     "data": {
      "text/plain": [
       "[1539, 6100, 6101, 24283, 24287, 24288, 24289, 24356, 24362, 24363]"
      ]
     },
     "execution_count": 28,
     "metadata": {},
     "output_type": "execute_result"
    }
   ],
   "source": [
    "def tri_search(v, f, fname):\n",
    "    # Read VTK file to get vertices and faces\n",
    "    v1, f1 = read_vtk(fname)\n",
    "\n",
    "    search = []\n",
    "    centroids = []\n",
    "    radii = []\n",
    "\n",
    "    centroids = np.mean(v1[f1], axis=1)\n",
    "    \n",
    "    dot1 = np.sum(centroids * v1[f1[:, 0], :], axis=1)\n",
    "    dot2 = np.sum(centroids * v1[f1[:, 1], :], axis=1)\n",
    "    dot3 = np.sum(centroids * v1[f1[:, 2], :], axis=1)\n",
    "\n",
    "    radii = np.array(np.arccos(np.minimum(np.array(dot1), np.minimum(np.array(dot2), np.array(dot3)))))\n",
    "    \n",
    "    centroids = np.array(centroids)\n",
    "    search = tree.query_ball_point(centroids, radii)\n",
    "\n",
    "    return search\n",
    "\n",
    "search = tri_search(v, f, \"C:/Users/pline1207/Desktop/Vtk_files/HLN-12-2.vnew.e1.vtk\")\n",
    "search[65780]"
   ]
  },
  {
   "cell_type": "code",
   "execution_count": 20,
   "id": "c84be033-fbae-4071-a997-3a8a08734af3",
   "metadata": {},
   "outputs": [
    {
     "data": {
      "text/plain": [
       "[8876, 14950, 21958]"
      ]
     },
     "execution_count": 20,
     "metadata": {},
     "output_type": "execute_result"
    }
   ],
   "source": []
  },
  {
   "cell_type": "code",
   "execution_count": null,
   "id": "a7732ac4-c00d-4b39-b8b3-702ea029c304",
   "metadata": {},
   "outputs": [],
   "source": []
  }
 ],
 "metadata": {
  "kernelspec": {
   "display_name": "Python 3 (ipykernel)",
   "language": "python",
   "name": "python3"
  },
  "language_info": {
   "codemirror_mode": {
    "name": "ipython",
    "version": 3
   },
   "file_extension": ".py",
   "mimetype": "text/x-python",
   "name": "python",
   "nbconvert_exporter": "python",
   "pygments_lexer": "ipython3",
   "version": "3.12.4"
  }
 },
 "nbformat": 4,
 "nbformat_minor": 5
}
